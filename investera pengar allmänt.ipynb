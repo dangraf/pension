{
 "cells": [
  {
   "cell_type": "markdown",
   "metadata": {},
   "source": [
    "# Konto typ\n",
    "Det finns olika konto typer när man investerar/spar kapital.\n",
    "- **Aktie fondkonto**: Du behöver deklarera och betala skatt för varje sälj tillfälle när du t.ex införskaffar eller byter fonder/aktier och då betala 30% skatt på vinsten. Lönsamt om förväntad vinst är lägre än 1.27% under 2020 [ref 1](https://www.avanza.se/lar-dig-mer/avanza-akademin/aktier/vilket-konto-ska-jag-handla-aktier-i.html)\n",
    "- **ISK** Investerings sparkonto: Man betalar som lägst 1.25% på totala beloppet varje år men slipper betala 30% vinst skatt. Detaljerad infrmation: [ref 2](https://www.avanza.se/lar-dig-mer/avanza-akademin/skatt-deklaration/hur-beskattas-ett-isk.html) [ref 3](https://www.konsumenternas.se/spara/olika-sparformer/om-investeringssparkonton-isk/jamfor-investeringssparkonto-isk)\n",
    "- **AF** kapitalförsäkring: Bra att använda om man köper/säljer utlänska värdepapper eftersom börsmäklaren hanterar att man får tillbaka pengar från t.ex utdelningar där skatten automatiskt dras från ursprungslandet.  Man äger inte värdepapperna själv vilket gör att det är svårare att gå på styrelsemöten etc. "
   ]
  },
  {
   "cell_type": "markdown",
   "metadata": {},
   "source": [
    "# Investerings tips:"
   ]
  },
  {
   "cell_type": "markdown",
   "metadata": {},
   "source": [
    "aktier eller fonder?\n",
    "- Olika fonder har olika avkastning och olika kostnad i form av förvaltningsavgift. Pensionsmyndigheten har rationalliserat detta så att alla fonder pressenterar den totala avgastningen efter att avgiften är betalad. Detta gör det mycket lättare att jämföra fonder med varanda.\n",
    "- Vissa fonder har olika "
   ]
  },
  {
   "cell_type": "code",
   "execution_count": null,
   "metadata": {},
   "outputs": [],
   "source": []
  }
 ],
 "metadata": {
  "kernelspec": {
   "display_name": "Python 3",
   "language": "python",
   "name": "python3"
  },
  "language_info": {
   "codemirror_mode": {
    "name": "ipython",
    "version": 3
   },
   "file_extension": ".py",
   "mimetype": "text/x-python",
   "name": "python",
   "nbconvert_exporter": "python",
   "pygments_lexer": "ipython3",
   "version": "3.7.1"
  }
 },
 "nbformat": 4,
 "nbformat_minor": 2
}
